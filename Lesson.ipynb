{
  "cells": [
    {
      "cell_type": "markdown",
      "id": "b509e99c",
      "metadata": {
        "id": "b509e99c"
      },
      "source": [
        "## Scipy and Optimization"
      ]
    },
    {
      "cell_type": "markdown",
      "id": "81d84e61",
      "metadata": {
        "id": "81d84e61"
      },
      "source": [
        "In the last notebook we took a tour of the `numpy` and `scipy` stack as it relates to math and statistics. This notebook is going to focus on another subset of `scipy` functionality that is absolutely critical to data analytics. Nearly every statistical algorithm aside from Ordinary Least Squares (OLS) regression cannot be solved algebraically. Because they cannot be solved algebraically, they must be solved **numerically**.\n",
        "\n",
        "### Numeric Optimization\n",
        "\n",
        "Let's start with an example of optimization. Let's say that you know the demand function for tickets to watch a local sports franchise. You can write the inverse demand function as\n",
        "\n",
        "$$ P = 300 - \\frac{1}{2}Q $$\n",
        "\n",
        "and the total cost function as\n",
        "\n",
        "$$ TC = 4000 + 45Q $$\n",
        "\n",
        "In order to choose the right number of tickets to sell, you need to calculate the quantity of tickets that will maximize profits. We can calculate total revenue as $ TR = P \\times Q $, and we can calculate profit as $ \\Pi = TR - TC $. This means that our profit function is\n",
        "\n",
        "$$ \\Pi = 300Q - \\frac{1}{2}Q^2 - 4000 - 45Q $$\n",
        "\n",
        "In order to find the $Q$ associated with the highest achievable level of profit, we can use calculus to find the point at which the rate of change in the profit function is zero ($\\frac{\\partial\\Pi}{\\partial Q}=0$).\n",
        "\n",
        "$$ \\frac{\\partial\\Pi}{\\partial Q} = 300 - Q - 45 = 0 \\implies Q = 255$$\n",
        "\n",
        "So we can **algebraically** solve this particular problem. This isn't always the case. Using `scipy`, we can solve this same problem, as well as many algebraically intractable problems that might be more interesting to us.\n"
      ]
    },
    {
      "cell_type": "markdown",
      "id": "c6d805e4",
      "metadata": {
        "id": "c6d805e4"
      },
      "source": [
        "<img src=\"https://github.com/dustywhite7/Econ8320/raw/master/SlidesCode/paraboloid.png\" width=\"200\" height=\"200\" />\n",
        "\n",
        "\n",
        "In any optimization problem, we need to find a way to get ourselves to the minimum, and to know when we get there. When we look at the above image, we are able to visually trace the functional shape (looks like a rainbow ice cream cone to me...) and locate the bottom of the function. What we want to do is utilize an algorithm to \"trace\" our way from an arbitrary starting point within a function to the optimal point in that function.\n",
        "\n",
        "In three or fewer dimensions, this is easy. Regressions and statistical models often live in worlds with 100's or 1000's (even millions sometimes) of dimensions. We can't visualize our way to the bottom of those functions!\n",
        "\n",
        "The class of algorithm that is used to solve these problems is called **gradient descent**.\n",
        "\n",
        "<img src=\"https://github.com/dustywhite7/Econ8320/raw/master/SlidesCode/gradDesc.png\" width=\"400\" />\n",
        "\n",
        "**Gradient descent** is an algorithm that explores the shape of the function, and determines which direction is most likely to lead to the optimal point. Let's focus on minimization. We want to find our way to the *bottom* of a function, and we can use gradient descent to try to get there. Given any starting point, our goal is to check the direction in which we can move downward most quickly, and start moving in that direction. At some distance from our starting point, we will stop and re-evaluate the direction in which we would like to travel. Are we still heading downhill in the steepest direction? If we aren't, then we need to update our behavior.\n",
        "\n",
        "Our gradient descent algorithm will keep \"looking around\" and moving down until it reaches a point at which it can no longer move \"down\" in any meaningful way. That is the stopping point, and is treated as the optimum.\n"
      ]
    },
    {
      "cell_type": "markdown",
      "id": "0af96154",
      "metadata": {
        "id": "0af96154"
      },
      "source": [
        "With an intuitive understanding of how optimization will happen computationally, it's time to learn a bit more about the math and the code that will help us to achieve computational optimization.\n",
        "\n",
        "Consider a function, $f$, with two variables $x$ and $y$. Because there are two input variables in the function, it has two partial derivatives:\n",
        "\n",
        "$$ \\frac{\\partial f}{\\partial x} \\text{ and } \\frac{\\partial f}{\\partial y} $$\n",
        "\n",
        "Each partial derivative tells us how $f$ changes as we move in a particular dimension **all else equal**. The **gradient**, then, is the vector of all partial derivatives of a given function at any point along the function:\n",
        "\n",
        "$$ \\nabla f = \\left[ \\begin{matrix} \\frac{\\partial f}{\\partial x} \\\\ \\\\ \\frac{\\partial f}{\\partial y} \\end{matrix} \\right]  $$\n",
        "\n",
        "We can use the gradient to determine the linear approximation of a function at any given point. Think about the gradient as the mathematical representation of the slope and direction of a hill you are hiking on. If we know the gradient, we know which way is down. As we continue to calculate gradients while walking, we can continue to ensure that we will walk downhill until we reach the bottom of the hill.\n",
        "\n",
        "\n"
      ]
    },
    {
      "cell_type": "markdown",
      "id": "6b3fefac",
      "metadata": {
        "id": "6b3fefac"
      },
      "source": [
        "The steps of our gradient descent function will be the following:\n",
        "\n",
        "- Evaluate the gradient of the function\n",
        "- Find the direction of steepest descent\n",
        "- Determine how far to move in that direction\n",
        "- Move to new point\n",
        "- Reevaluate the gradient\n",
        "- Stop moving when gradient is within a margin of error from 0\n",
        "\n",
        "Let's try to implement gradient descent by solving our old profit maximization problem computationally. The very first thing that we need to do is write a Python function that will represent our mathematical function."
      ]
    },
    {
      "cell_type": "code",
      "execution_count": null,
      "id": "3c641a5e",
      "metadata": {
        "id": "3c641a5e"
      },
      "outputs": [],
      "source": [
        "def profit(q):\n",
        "    p = 300-0.5*q\n",
        "    tr = p*q\n",
        "    tc = 4000 + 45*q\n",
        "    return tr - tc"
      ]
    },
    {
      "cell_type": "markdown",
      "id": "ed1c0514",
      "metadata": {
        "id": "ed1c0514"
      },
      "source": [
        "This function will allow us to calculate profit at any output level based on our assumed total costs and demand curve. With this function, we can quickly calculate the gradient (in this case, just a simple derivative because our function is univariate) by calculating profit at two nearby points, and dividing by the horizontal distance between those points:"
      ]
    },
    {
      "cell_type": "code",
      "execution_count": null,
      "id": "4ef8c0ac",
      "metadata": {
        "colab": {
          "base_uri": "https://localhost:8080/"
        },
        "id": "4ef8c0ac",
        "outputId": "a3c60035-db7e-496d-b4e8-a046e4d67769"
      },
      "outputs": [
        {
          "output_type": "execute_result",
          "data": {
            "text/plain": [
              "55.0"
            ]
          },
          "metadata": {},
          "execution_count": 2
        }
      ],
      "source": [
        "# Gradient at q=200\n",
        "\n",
        "(profit(201) - profit(199))/2"
      ]
    },
    {
      "cell_type": "markdown",
      "id": "5e219ac5",
      "metadata": {
        "id": "5e219ac5"
      },
      "source": [
        "    55.0\n",
        "\n",
        "\n",
        "\n",
        "Thus, a one unit increase in output at $Q=200$ results in a $55 increase in profits. This is cool, but it isn't enough for us to find the point of maximum profit (the optimal point). For that, we will need to calculate LOTS of gradients in order to move along the function until we cannot increase profits any further.\n",
        "\n",
        "Fortunately for us, `scipy` comes with optimization tools that will do all of the heavy lifting of the \"search\" for the optimal point. All that we need to do is frame our question algorithmically, and let `scipy` do the rest:"
      ]
    },
    {
      "cell_type": "code",
      "execution_count": null,
      "id": "edaa6713",
      "metadata": {
        "id": "edaa6713"
      },
      "outputs": [],
      "source": [
        "import numpy as np\n",
        "from scipy.optimize import minimize"
      ]
    },
    {
      "cell_type": "markdown",
      "id": "6b4f0c01",
      "metadata": {
        "id": "6b4f0c01"
      },
      "source": [
        "We start by importing the `minimize` function from `scipy.optimize`. Hang on! Weren't we working on a MAXIMIZATION problem?? What are we doing here?\n",
        "\n",
        "Maximization and minimization are the **same thing**. To maximize a function, you can multiply that function by `-1` and then calculate the minimum of the new \"upside-down\" function. It is functionally equivalent. So, in computational optimization, we always minimize.\n",
        "\n",
        "### Prepping for optimization\n",
        "\n",
        "As we prepare to optimize, there are two common problems with our function that we may need to resolve:\n",
        "\n",
        "1) When using `minimize` we can only pass an array of inputs, so we have to be careful to write our function accordingly\n",
        "2) Our problem is concave, and so has a maximum\n",
        "\t- We need to restate it as a minimization problem\n",
        "\n",
        "Problem 1 does not apply, since our function in univariate. In order to make our problem a minimization problem, we can flip our profit maximization function. We will simply return -1 * profit:"
      ]
    },
    {
      "cell_type": "code",
      "execution_count": null,
      "id": "c950291a",
      "metadata": {
        "id": "c950291a"
      },
      "outputs": [],
      "source": [
        "def profit(q):\n",
        "    p = 300-0.5*q\n",
        "    tr = p*q\n",
        "    tc = 4000 + 45*q\n",
        "    pi =  tr - tc # didn't name it profit because that is our function's name! Don't want to clutter our name space!\n",
        "    return -1*pi"
      ]
    },
    {
      "cell_type": "markdown",
      "id": "56b1a329",
      "metadata": {
        "id": "56b1a329"
      },
      "source": [
        "### Making the call to `minimize`\n",
        "\n",
        "Now that our function is ready, it is time to minimize! The `minimize` function takes two arguments:\n",
        "1. Our function that we want to optimize\n",
        "2. A starting guess (as a vector)\n",
        "\n",
        "Let's give it a try."
      ]
    },
    {
      "cell_type": "code",
      "execution_count": null,
      "id": "7d46c4fa",
      "metadata": {
        "colab": {
          "base_uri": "https://localhost:8080/"
        },
        "id": "7d46c4fa",
        "outputId": "42c194f7-58b0-4451-d9e5-e8c2e88342a9"
      },
      "outputs": [
        {
          "output_type": "execute_result",
          "data": {
            "text/plain": [
              "  message: Optimization terminated successfully.\n",
              "  success: True\n",
              "   status: 0\n",
              "      fun: -28512.499999980355\n",
              "        x: [ 2.550e+02]\n",
              "      nit: 3\n",
              "      jac: [ 0.000e+00]\n",
              " hess_inv: [[ 1.000e+00]]\n",
              "     nfev: 14\n",
              "     njev: 7"
            ]
          },
          "metadata": {},
          "execution_count": 5
        }
      ],
      "source": [
        "res = minimize(profit, [0]) # provide function and starting inputs\n",
        "res"
      ]
    },
    {
      "cell_type": "markdown",
      "id": "61532439",
      "metadata": {
        "id": "61532439"
      },
      "source": [
        "          fun: -28512.499999980355\n",
        "     hess_inv: array([[1.00000175]])\n",
        "          jac: array([0.])\n",
        "      message: 'Optimization terminated successfully.'\n",
        "         nfev: 21\n",
        "          nit: 3\n",
        "         njev: 7\n",
        "       status: 0\n",
        "      success: True\n",
        "            x: array([255.00019821])\n",
        "\n",
        "\n",
        "\n",
        "That's it! No calculus, no searching, no checking gradients manually. `minimize` simply takes our function and our starting guess and brings us back the optimal choice. We get lots of information stored in the attributes of the `res` object:\n",
        "\n",
        "- `fun` provides the value of the function (this is -1 times the profit level at the optimal output in our example)\n",
        "- `hess_inv` and `jac` are measures of gradient and are used to determine how far to go and in which direction\n",
        "- `message` should be self-explanatory\n",
        "- `nfev` is the number of times the function (in this case `profit`) was evaluated during the search\n",
        "- `nit` is the number of iterations it took to find the optimum\n",
        "- `njev` is the number of times the Jacobian was estimated\n",
        "- `status` is a code associated with the `message` and `success` atrributes\n",
        "- `success` tells you whether or not an optimum was found (sometimes it cannot be easily found!)\n",
        "- `x` probably the most important attribute. This tells us the optimal input value (in our case $Q$), or set of values depending on our function. In a regression context, this could represent the fitted coefficients!\n",
        "\n",
        "Going forward, you will realize (especially because so many of them print the output as they optimize) just how many libraries in Python use this minimize function behind the scenes. It is used in `statsmodels`, `sklearn`, and many other high-profile libraries! Now that you know where it really happens (in `scipy`!), you'll be better able to troubleshoot the problems that will inevitably arise as you use statistical models."
      ]
    },
    {
      "cell_type": "markdown",
      "id": "4035bfcd",
      "metadata": {
        "id": "4035bfcd"
      },
      "source": [
        "**Solve-it!**\n",
        "\n",
        "In this lesson we learned about optimization using SciPy. For the assignment this week, I would like you to build off of your `RegressionModel` class. You will add a Logistic Regression (Logit) method to your class, so that when the `regression_type` parameter is `logit`, Logistic Regression Results are returned.\n",
        "\n",
        "Your job is to create the following functionality within your class object:\n",
        "- a method (call it `logistic_regression`) that estimates the results of logistic regression using your `x` and `y` data frames, and using a likelihood function and gradient descent (DO NOT USE PREBUILT REGRESSION FUNCTIONS).\n",
        "    - You need to write a function to calculate the Log-likelihood of your model\n",
        "    - You need to implement gradient descent to find the optimal values of beta\n",
        "    - You need to use your beta estimates, the model variance, and calculate the standard errors of the coefficients, as well as Z statistics and p-values\n",
        "    - the results should be stored in a dictionary named `results`, where each variable name (including the intercept if `create_intercept` is `True`) is the key, and the value is another dictionary, with keys for `coefficient`, `standard_error`, `z_stat`, and `p_value`. The coefficient should be the log odds-ratio (which takes the place of the coefficients in OLS)\n",
        "- a method called `fit_model` that uses the `self.regression_type` attribute to determine whether or not to run an OLS or Logistic Regression using the data provided. This method should call the correct regression method.\n",
        "- an updated method (call it `summary`) that presents your regression results in a table\n",
        "    - Columns should be: Variable name, Log odds-ratio value, standard error, z-statistic, and p-value, in that order.\n",
        "    - Your summary table should have different column titles for OLS and Logistic Regressions! (think if statement...)\n",
        "\n",
        "You only need to define the class. My code will create an instance of your class (be sure all the names match these instructions, and those from last week!), and provide data to run a regression. I will provide the same data to you, so that you can experiment and make sure that your code is functioning properly.\n",
        "\n",
        "NOTE: I have created a [primer on Logistic regression](https://github.com/dustywhite7/Econ8320/blob/master/SlidesPDF/9-2%20-%20Logit%20Primer.pdf) to go with this assignment. See the Github slidesPDF folder\n",
        "\n",
        "Put the code that you would like graded in the cell labeled `#si-exercise`. I recommend copying your code from the last assignment (in chapter 9 about linear regression and `numpy`), and continuing from there.\n",
        "\n"
      ]
    },
    {
      "cell_type": "code",
      "execution_count": 5,
      "id": "6a146533",
      "metadata": {
        "id": "6a146533"
      },
      "outputs": [],
      "source": [
        "#si-exercise\n",
        "\n",
        "import numpy as np\n",
        "import pandas as pd\n",
        "from scipy import stats\n",
        "from scipy.linalg import pinv\n",
        "from typing import Union, Dict, Optional\n",
        "from dataclasses import dataclass\n",
        "\n",
        "@dataclass\n",
        "class RegressionResults:\n",
        "    \"\"\"Store regression results including coefficients and diagnostics\"\"\"\n",
        "    coefficients: np.ndarray\n",
        "    standard_errors: np.ndarray\n",
        "    test_statistics: np.ndarray\n",
        "    p_values: np.ndarray\n",
        "    r_squared: float\n",
        "    adj_r_squared: float\n",
        "    residuals: np.ndarray\n",
        "    fitted_values: np.ndarray\n",
        "\n",
        "class RegressionModel:\n",
        "    \"\"\"\n",
        "    A class for performing OLS and Logistic regression with diagnostics\n",
        "\n",
        "    Parameters\n",
        "    ----------\n",
        "    x : array-like, shape (n_samples, n_features)\n",
        "        The input samples\n",
        "    y : array-like, shape (n_samples,)\n",
        "        The target values\n",
        "    create_intercept : bool, default=True\n",
        "        Whether to add an intercept term\n",
        "    regression_type : str, default='ols'\n",
        "        The type of regression ('ols' or 'logit')\n",
        "    \"\"\"\n",
        "\n",
        "    def __init__(\n",
        "        self,\n",
        "        x: Union[pd.DataFrame, np.ndarray],\n",
        "        y: Union[pd.Series, np.ndarray],\n",
        "        create_intercept: bool = True,\n",
        "        regression_type: str = \"ols\"\n",
        "    ):\n",
        "        # Validate inputs\n",
        "        self._validate_inputs(x, y, create_intercept, regression_type)\n",
        "\n",
        "        # Convert inputs to standard format\n",
        "        self.x = pd.DataFrame(x)\n",
        "        self.y = pd.Series(y) if not isinstance(y, pd.Series) else y\n",
        "        self.create_intercept = create_intercept\n",
        "        self.regression_type = regression_type.lower()\n",
        "\n",
        "        # Initialize results storage\n",
        "        self.results: Optional[RegressionResults] = None\n",
        "        self._is_fitted = False\n",
        "\n",
        "        if self.create_intercept:\n",
        "            self.add_intercept()\n",
        "\n",
        "    def _validate_inputs(\n",
        "        self,\n",
        "        x: Union[pd.DataFrame, np.ndarray],\n",
        "        y: Union[pd.Series, np.ndarray],\n",
        "        create_intercept: bool,\n",
        "        regression_type: str\n",
        "    ) -> None:\n",
        "        \"\"\"Validate input parameters\"\"\"\n",
        "        if not isinstance(create_intercept, bool):\n",
        "            raise ValueError(\"create_intercept must be boolean\")\n",
        "\n",
        "        if regression_type.lower() not in [\"ols\", \"logit\"]:\n",
        "            raise ValueError(\"regression_type must be 'ols' or 'logit'\")\n",
        "\n",
        "        # Check dimensions\n",
        "        x_shape = x.shape[0] if hasattr(x, 'shape') else len(x)\n",
        "        y_shape = y.shape[0] if hasattr(y, 'shape') else len(y)\n",
        "\n",
        "        if x_shape != y_shape:\n",
        "            raise ValueError(f\"x and y must have same number of samples. Got {x_shape} and {y_shape}\")\n",
        "\n",
        "        # For logistic regression, check y is binary\n",
        "        if regression_type.lower() == \"logit\":\n",
        "            unique_values = np.unique(y)\n",
        "            if not np.array_equal(unique_values, [0, 1]) and not np.array_equal(unique_values, [1, 0]):\n",
        "                raise ValueError(\"For logistic regression, y must contain only binary values (0 and 1)\")\n",
        "\n",
        "    def add_intercept(self) -> None:\n",
        "        \"\"\"Add intercept column to feature matrix\"\"\"\n",
        "        if 'intercept' not in self.x.columns:\n",
        "            self.x.insert(0, 'intercept', 1)\n",
        "\n",
        "    def _calculate_ols_metrics(self, y_pred: np.ndarray) -> Dict:\n",
        "        \"\"\"Calculate regression metrics for OLS\"\"\"\n",
        "        n = len(self.y)\n",
        "        k = self.x.shape[1]\n",
        "\n",
        "        # R-squared\n",
        "        y_mean = np.mean(self.y)\n",
        "        tss = np.sum((self.y - y_mean) ** 2)\n",
        "        rss = np.sum((self.y - y_pred) ** 2)\n",
        "        r_squared = 1 - (rss / tss)\n",
        "\n",
        "        # Adjusted R-squared\n",
        "        adj_r_squared = 1 - ((1 - r_squared) * (n - 1) / (n - k - 1))\n",
        "\n",
        "        return {\n",
        "            'r_squared': r_squared,\n",
        "            'adj_r_squared': adj_r_squared\n",
        "        }\n",
        "\n",
        "    def ols_regression(self) -> RegressionResults:\n",
        "        \"\"\"Perform OLS regression\"\"\"\n",
        "        X = self.x.values\n",
        "        y = self.y.values.reshape(-1, 1)\n",
        "\n",
        "        # Calculate coefficients\n",
        "        beta = pinv(X.T @ X) @ (X.T @ y)\n",
        "        y_pred = X @ beta\n",
        "        residuals = y - y_pred\n",
        "\n",
        "        # Calculate standard errors\n",
        "        n = X.shape[0]\n",
        "        k = X.shape[1]\n",
        "        degrees_of_freedom = n - k\n",
        "        sigma_squared = np.sum(residuals ** 2) / degrees_of_freedom\n",
        "        var_beta = sigma_squared * pinv(X.T @ X)\n",
        "        std_errors = np.sqrt(np.diag(var_beta))\n",
        "\n",
        "        # Calculate t-statistics and two-sided p-values\n",
        "        t_stats = beta.flatten() / std_errors\n",
        "        p_values = 2 * (1 - stats.t.cdf(np.abs(t_stats), degrees_of_freedom))\n",
        "\n",
        "        # Calculate metrics\n",
        "        metrics = self._calculate_ols_metrics(y_pred)\n",
        "\n",
        "        self._is_fitted = True  # Mark model as fitted\n",
        "        return RegressionResults(\n",
        "            coefficients=beta.flatten(),\n",
        "            standard_errors=std_errors,\n",
        "            test_statistics=t_stats,\n",
        "            p_values=p_values,\n",
        "            residuals=residuals.flatten(),\n",
        "            fitted_values=y_pred.flatten(),\n",
        "            **metrics\n",
        "        )\n",
        "\n",
        "    def logit_regression(self) -> RegressionResults:\n",
        "        \"\"\"Perform logistic regression using iteratively reweighted least squares\"\"\"\n",
        "        X = self.x.values\n",
        "        y = self.y.values.reshape(-1, 1)\n",
        "\n",
        "        # Initialize parameters\n",
        "        beta = np.zeros((X.shape[1], 1))\n",
        "        max_iter = 100\n",
        "        tolerance = 1e-8\n",
        "\n",
        "        # Newton-Raphson iteration\n",
        "        for _ in range(max_iter):\n",
        "            # Calculate predictions\n",
        "            z = X @ beta\n",
        "            p = 1 / (1 + np.exp(-z))\n",
        "\n",
        "            # Calculate weights\n",
        "            W = np.diag((p * (1 - p)).flatten())\n",
        "\n",
        "            # Update parameters\n",
        "            beta_new = pinv(X.T @ W @ X) @ (X.T @ W @ (y - p))\n",
        "\n",
        "            # Check convergence\n",
        "            if np.all(np.abs(beta_new - beta) < tolerance):\n",
        "                break\n",
        "\n",
        "            beta = beta_new\n",
        "\n",
        "        # Final predictions\n",
        "        z = X @ beta\n",
        "        p = 1 / (1 + np.exp(-z))\n",
        "\n",
        "        # Calculate standard errors\n",
        "        W = np.diag((p * (1 - p)).flatten())\n",
        "        var_beta = pinv(X.T @ W @ X)\n",
        "        std_errors = np.sqrt(np.diag(var_beta))\n",
        "\n",
        "        # Calculate z-statistics and two-sided p-values\n",
        "        z_stats = beta.flatten() / std_errors\n",
        "        p_values = 2 * (1 - stats.norm.cdf(np.abs(z_stats)))\n",
        "\n",
        "        # Calculate pseudo R-squared (McFadden's)\n",
        "        null_model = np.full_like(y, np.mean(y))\n",
        "        ll_full = np.sum(y * np.log(p) + (1 - y) * np.log(1 - p))\n",
        "        ll_null = np.sum(y * np.log(null_model) + (1 - y) * np.log(1 - null_model))\n",
        "        pseudo_r2 = 1 - (ll_full / ll_null)\n",
        "\n",
        "        self._is_fitted = True  # Mark model as fitted\n",
        "        return RegressionResults(\n",
        "            coefficients=beta.flatten(),\n",
        "            standard_errors=std_errors,\n",
        "            test_statistics=z_stats,\n",
        "            p_values=p_values,\n",
        "            residuals=y.flatten() - p.flatten(),\n",
        "            fitted_values=p.flatten(),\n",
        "            r_squared=pseudo_r2,\n",
        "            adj_r_squared=pseudo_r2  # Note: adjusted version not typically used for logistic\n",
        "        )\n",
        "\n",
        "    def fit_model(self):\n",
        "        \"\"\"Fit the specified regression model\"\"\"\n",
        "        if self.regression_type == 'ols':\n",
        "            self.results = self.ols_regression()\n",
        "        elif self.regression_type == 'logit':\n",
        "            self.results = self.logit_regression()\n",
        "\n",
        "    def summary(self) -> pd.DataFrame:\n",
        "        \"\"\"Generate summary statistics table\"\"\"\n",
        "        if not self._is_fitted:\n",
        "            raise RuntimeError(\"Model must be fitted before generating summary\")\n",
        "\n",
        "        summary_df = pd.DataFrame({\n",
        "            'coefficient': self.results.coefficients,\n",
        "            'std_error': self.results.standard_errors,\n",
        "            f'{\"t\" if self.regression_type == \"ols\" else \"z\"}-statistic':\n",
        "                self.results.test_statistics,\n",
        "            'p_value': self.results.p_values\n",
        "        }, index=self.x.columns)\n",
        "\n",
        "        # Add model metrics\n",
        "        metrics_df = pd.DataFrame({\n",
        "            'R-squared': [self.results.r_squared],\n",
        "            'Adj R-squared': [self.results.adj_r_squared]\n",
        "        })\n",
        "\n",
        "        return summary_df, metrics_df\n",
        "\n",
        "    def predict(self, X_new: Union[pd.DataFrame, np.ndarray]) -> np.ndarray:\n",
        "        \"\"\"Make predictions on new data\"\"\"\n",
        "        if not self._is_fitted:\n",
        "            raise RuntimeError(\"Model must be fitted before making predictions\")\n",
        "\n",
        "        # Convert input to DataFrame\n",
        "        X_new = pd.DataFrame(X_new)\n",
        "\n",
        "        # Add intercept if needed\n",
        "        if self.create_intercept and 'intercept' not in X_new.columns:\n",
        "            X_new.insert(0, 'intercept', 1)\n",
        "\n",
        "        # Make predictions\n",
        "        if self.regression_type == 'ols':\n",
        "            return X_new.values @ self.results.coefficients\n",
        "        else:\n",
        "            z = X_new.values @ self.results.coefficients\n",
        "            return 1 / (1 + np.exp(-z))\n"
      ]
    }
  ],
  "metadata": {
    "kernelspec": {
      "display_name": "Python 3 (ipykernel)",
      "language": "python",
      "name": "python3"
    },
    "language_info": {
      "codemirror_mode": {
        "name": "ipython",
        "version": 3
      },
      "file_extension": ".py",
      "mimetype": "text/x-python",
      "name": "python",
      "nbconvert_exporter": "python",
      "pygments_lexer": "ipython3",
      "version": "3.9.13"
    },
    "colab": {
      "provenance": []
    }
  },
  "nbformat": 4,
  "nbformat_minor": 5
}